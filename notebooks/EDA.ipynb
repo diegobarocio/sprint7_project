{
 "cells": [
  {
   "cell_type": "code",
   "execution_count": 8,
   "metadata": {},
   "outputs": [
    {
     "name": "stdout",
     "output_type": "stream",
     "text": [
      "<class 'pandas.core.frame.DataFrame'>\n",
      "RangeIndex: 623 entries, 0 to 622\n",
      "Data columns (total 10 columns):\n",
      " #   Column       Non-Null Count  Dtype \n",
      "---  ------       --------------  ----- \n",
      " 0   Name         623 non-null    object\n",
      " 1   Position     623 non-null    object\n",
      " 2   Age          623 non-null    int64 \n",
      " 3   Club         623 non-null    object\n",
      " 4   Height       623 non-null    int64 \n",
      " 5   Foot         620 non-null    object\n",
      " 6   Caps         623 non-null    int64 \n",
      " 7   Goals        623 non-null    int64 \n",
      " 8   MarketValue  623 non-null    int64 \n",
      " 9   Country      623 non-null    object\n",
      "dtypes: int64(5), object(5)\n",
      "memory usage: 48.8+ KB\n"
     ]
    }
   ],
   "source": [
    "import pandas as pd\n",
    "import plotly.express as px\n",
    "\n",
    "\n",
    "player_data = pd.read_csv(\n",
    "    '/Users/diegobarocio/Documents/Python/sprint7/sprint7_project/data/euro2024_players.csv')  # leer los datos\n",
    "\n",
    "player_data.info()"
   ]
  },
  {
   "cell_type": "code",
   "execution_count": null,
   "metadata": {},
   "outputs": [],
   "source": [
    "# Convertir columnas a minúsculas\n",
    "player_data.columns = player_data.columns.str.lower()\n",
    "\n",
    "# Cambiar el nombre de la columna 'marketvalue' a 'market_value'\n",
    "player_data = player_data.rename(columns={'marketvalue': 'market_value'})"
   ]
  },
  {
   "cell_type": "code",
   "execution_count": 10,
   "metadata": {},
   "outputs": [
    {
     "data": {
      "application/vnd.plotly.v1+json": {
       "config": {
        "plotlyServerURL": "https://plot.ly"
       },
       "data": [
        {
         "bingroup": "x",
         "hovertemplate": "age=%{x}<br>count=%{y}<extra></extra>",
         "legendgroup": "",
         "marker": {
          "color": "#636efa",
          "pattern": {
           "shape": ""
          }
         },
         "name": "",
         "orientation": "v",
         "showlegend": false,
         "type": "histogram",
         "x": {
          "bdata": "ICYiGBwfGxsaGx0bFB0hIiAVFRgaHCIVGx8cHB8bHRkgIB4bGhkaGxYdHiAgIB0bIBscFSIhIR8aFhYfFB8YHSEiHBcZGBYcHhYbFx0dGiMeHBsgFhkfHxsfFRsgHBYgGCAXGSAbFxscGh0bGB4iHBkgJhsZFRscFRoWFRgeEBsfIh0YHRgYGhojFhocHx4VHSYaFRoZHSMXICAdHRsjHxgbGR4UHh4gFhwiIhwUFxkZHRYbGxoZGxsZGRYcGRoYHhgiHSAbGBcaGxocHxgZGR8iGhkZGBgdHhwdHBUaGB0aIxkkHhUeGRYcGh4bHhcaGyAcGSIhGRgTFBQWGRcYFhseHBwXHyUcHB8jIhUbGhoYHhwcICAXGRgaFRkaHRgcGxcaHBwgGh8gHh0WFxsdHx0aIxsYHRoUGCIhHB0YIRgZHxoZHBUgHhkTHRYZGCQjGxwbFRoeGBcdICAiFxsbGRYZIRccFRoZGhkWHh8XGyEZGxoXFCAeGxwbHhcXGBgfFyAZFx4jGhweHxccGRkZGh0fGCEVEh0ZGxUbGRoZISUgHx8YGhQjJRccIBYbExoVIBcWHR4VGhgfGxojGh0cFR8UHyUdGh0gHBUlFhwSHhoZGBcYGiQWHxgcHB8ZHxkcGRofGhkaGBkaGBgcIRYZHhUcGRcdGxkbGBsWIiEZFR8XGhsiGhYcGhwjGhUdHR4YGxkeGRoeFxMbGRgcFxMSFSEXGSYaHSAcISQXFyASGBscHBgXHRcXHBceHhgfJBsWFCkVGR4eHBMbIBkYHR0YGxgVGBYnGBYcFRkXGBcfFx8dGRcaGxcdGRQaFRwZGx0=",
          "dtype": "i1"
         },
         "xaxis": "x",
         "yaxis": "y"
        }
       ],
       "layout": {
        "barmode": "relative",
        "legend": {
         "tracegroupgap": 0
        },
        "margin": {
         "t": 60
        },
        "template": {
         "data": {
          "bar": [
           {
            "error_x": {
             "color": "#2a3f5f"
            },
            "error_y": {
             "color": "#2a3f5f"
            },
            "marker": {
             "line": {
              "color": "#E5ECF6",
              "width": 0.5
             },
             "pattern": {
              "fillmode": "overlay",
              "size": 10,
              "solidity": 0.2
             }
            },
            "type": "bar"
           }
          ],
          "barpolar": [
           {
            "marker": {
             "line": {
              "color": "#E5ECF6",
              "width": 0.5
             },
             "pattern": {
              "fillmode": "overlay",
              "size": 10,
              "solidity": 0.2
             }
            },
            "type": "barpolar"
           }
          ],
          "carpet": [
           {
            "aaxis": {
             "endlinecolor": "#2a3f5f",
             "gridcolor": "white",
             "linecolor": "white",
             "minorgridcolor": "white",
             "startlinecolor": "#2a3f5f"
            },
            "baxis": {
             "endlinecolor": "#2a3f5f",
             "gridcolor": "white",
             "linecolor": "white",
             "minorgridcolor": "white",
             "startlinecolor": "#2a3f5f"
            },
            "type": "carpet"
           }
          ],
          "choropleth": [
           {
            "colorbar": {
             "outlinewidth": 0,
             "ticks": ""
            },
            "type": "choropleth"
           }
          ],
          "contour": [
           {
            "colorbar": {
             "outlinewidth": 0,
             "ticks": ""
            },
            "colorscale": [
             [
              0,
              "#0d0887"
             ],
             [
              0.1111111111111111,
              "#46039f"
             ],
             [
              0.2222222222222222,
              "#7201a8"
             ],
             [
              0.3333333333333333,
              "#9c179e"
             ],
             [
              0.4444444444444444,
              "#bd3786"
             ],
             [
              0.5555555555555556,
              "#d8576b"
             ],
             [
              0.6666666666666666,
              "#ed7953"
             ],
             [
              0.7777777777777778,
              "#fb9f3a"
             ],
             [
              0.8888888888888888,
              "#fdca26"
             ],
             [
              1,
              "#f0f921"
             ]
            ],
            "type": "contour"
           }
          ],
          "contourcarpet": [
           {
            "colorbar": {
             "outlinewidth": 0,
             "ticks": ""
            },
            "type": "contourcarpet"
           }
          ],
          "heatmap": [
           {
            "colorbar": {
             "outlinewidth": 0,
             "ticks": ""
            },
            "colorscale": [
             [
              0,
              "#0d0887"
             ],
             [
              0.1111111111111111,
              "#46039f"
             ],
             [
              0.2222222222222222,
              "#7201a8"
             ],
             [
              0.3333333333333333,
              "#9c179e"
             ],
             [
              0.4444444444444444,
              "#bd3786"
             ],
             [
              0.5555555555555556,
              "#d8576b"
             ],
             [
              0.6666666666666666,
              "#ed7953"
             ],
             [
              0.7777777777777778,
              "#fb9f3a"
             ],
             [
              0.8888888888888888,
              "#fdca26"
             ],
             [
              1,
              "#f0f921"
             ]
            ],
            "type": "heatmap"
           }
          ],
          "histogram": [
           {
            "marker": {
             "pattern": {
              "fillmode": "overlay",
              "size": 10,
              "solidity": 0.2
             }
            },
            "type": "histogram"
           }
          ],
          "histogram2d": [
           {
            "colorbar": {
             "outlinewidth": 0,
             "ticks": ""
            },
            "colorscale": [
             [
              0,
              "#0d0887"
             ],
             [
              0.1111111111111111,
              "#46039f"
             ],
             [
              0.2222222222222222,
              "#7201a8"
             ],
             [
              0.3333333333333333,
              "#9c179e"
             ],
             [
              0.4444444444444444,
              "#bd3786"
             ],
             [
              0.5555555555555556,
              "#d8576b"
             ],
             [
              0.6666666666666666,
              "#ed7953"
             ],
             [
              0.7777777777777778,
              "#fb9f3a"
             ],
             [
              0.8888888888888888,
              "#fdca26"
             ],
             [
              1,
              "#f0f921"
             ]
            ],
            "type": "histogram2d"
           }
          ],
          "histogram2dcontour": [
           {
            "colorbar": {
             "outlinewidth": 0,
             "ticks": ""
            },
            "colorscale": [
             [
              0,
              "#0d0887"
             ],
             [
              0.1111111111111111,
              "#46039f"
             ],
             [
              0.2222222222222222,
              "#7201a8"
             ],
             [
              0.3333333333333333,
              "#9c179e"
             ],
             [
              0.4444444444444444,
              "#bd3786"
             ],
             [
              0.5555555555555556,
              "#d8576b"
             ],
             [
              0.6666666666666666,
              "#ed7953"
             ],
             [
              0.7777777777777778,
              "#fb9f3a"
             ],
             [
              0.8888888888888888,
              "#fdca26"
             ],
             [
              1,
              "#f0f921"
             ]
            ],
            "type": "histogram2dcontour"
           }
          ],
          "mesh3d": [
           {
            "colorbar": {
             "outlinewidth": 0,
             "ticks": ""
            },
            "type": "mesh3d"
           }
          ],
          "parcoords": [
           {
            "line": {
             "colorbar": {
              "outlinewidth": 0,
              "ticks": ""
             }
            },
            "type": "parcoords"
           }
          ],
          "pie": [
           {
            "automargin": true,
            "type": "pie"
           }
          ],
          "scatter": [
           {
            "fillpattern": {
             "fillmode": "overlay",
             "size": 10,
             "solidity": 0.2
            },
            "type": "scatter"
           }
          ],
          "scatter3d": [
           {
            "line": {
             "colorbar": {
              "outlinewidth": 0,
              "ticks": ""
             }
            },
            "marker": {
             "colorbar": {
              "outlinewidth": 0,
              "ticks": ""
             }
            },
            "type": "scatter3d"
           }
          ],
          "scattercarpet": [
           {
            "marker": {
             "colorbar": {
              "outlinewidth": 0,
              "ticks": ""
             }
            },
            "type": "scattercarpet"
           }
          ],
          "scattergeo": [
           {
            "marker": {
             "colorbar": {
              "outlinewidth": 0,
              "ticks": ""
             }
            },
            "type": "scattergeo"
           }
          ],
          "scattergl": [
           {
            "marker": {
             "colorbar": {
              "outlinewidth": 0,
              "ticks": ""
             }
            },
            "type": "scattergl"
           }
          ],
          "scattermap": [
           {
            "marker": {
             "colorbar": {
              "outlinewidth": 0,
              "ticks": ""
             }
            },
            "type": "scattermap"
           }
          ],
          "scattermapbox": [
           {
            "marker": {
             "colorbar": {
              "outlinewidth": 0,
              "ticks": ""
             }
            },
            "type": "scattermapbox"
           }
          ],
          "scatterpolar": [
           {
            "marker": {
             "colorbar": {
              "outlinewidth": 0,
              "ticks": ""
             }
            },
            "type": "scatterpolar"
           }
          ],
          "scatterpolargl": [
           {
            "marker": {
             "colorbar": {
              "outlinewidth": 0,
              "ticks": ""
             }
            },
            "type": "scatterpolargl"
           }
          ],
          "scatterternary": [
           {
            "marker": {
             "colorbar": {
              "outlinewidth": 0,
              "ticks": ""
             }
            },
            "type": "scatterternary"
           }
          ],
          "surface": [
           {
            "colorbar": {
             "outlinewidth": 0,
             "ticks": ""
            },
            "colorscale": [
             [
              0,
              "#0d0887"
             ],
             [
              0.1111111111111111,
              "#46039f"
             ],
             [
              0.2222222222222222,
              "#7201a8"
             ],
             [
              0.3333333333333333,
              "#9c179e"
             ],
             [
              0.4444444444444444,
              "#bd3786"
             ],
             [
              0.5555555555555556,
              "#d8576b"
             ],
             [
              0.6666666666666666,
              "#ed7953"
             ],
             [
              0.7777777777777778,
              "#fb9f3a"
             ],
             [
              0.8888888888888888,
              "#fdca26"
             ],
             [
              1,
              "#f0f921"
             ]
            ],
            "type": "surface"
           }
          ],
          "table": [
           {
            "cells": {
             "fill": {
              "color": "#EBF0F8"
             },
             "line": {
              "color": "white"
             }
            },
            "header": {
             "fill": {
              "color": "#C8D4E3"
             },
             "line": {
              "color": "white"
             }
            },
            "type": "table"
           }
          ]
         },
         "layout": {
          "annotationdefaults": {
           "arrowcolor": "#2a3f5f",
           "arrowhead": 0,
           "arrowwidth": 1
          },
          "autotypenumbers": "strict",
          "coloraxis": {
           "colorbar": {
            "outlinewidth": 0,
            "ticks": ""
           }
          },
          "colorscale": {
           "diverging": [
            [
             0,
             "#8e0152"
            ],
            [
             0.1,
             "#c51b7d"
            ],
            [
             0.2,
             "#de77ae"
            ],
            [
             0.3,
             "#f1b6da"
            ],
            [
             0.4,
             "#fde0ef"
            ],
            [
             0.5,
             "#f7f7f7"
            ],
            [
             0.6,
             "#e6f5d0"
            ],
            [
             0.7,
             "#b8e186"
            ],
            [
             0.8,
             "#7fbc41"
            ],
            [
             0.9,
             "#4d9221"
            ],
            [
             1,
             "#276419"
            ]
           ],
           "sequential": [
            [
             0,
             "#0d0887"
            ],
            [
             0.1111111111111111,
             "#46039f"
            ],
            [
             0.2222222222222222,
             "#7201a8"
            ],
            [
             0.3333333333333333,
             "#9c179e"
            ],
            [
             0.4444444444444444,
             "#bd3786"
            ],
            [
             0.5555555555555556,
             "#d8576b"
            ],
            [
             0.6666666666666666,
             "#ed7953"
            ],
            [
             0.7777777777777778,
             "#fb9f3a"
            ],
            [
             0.8888888888888888,
             "#fdca26"
            ],
            [
             1,
             "#f0f921"
            ]
           ],
           "sequentialminus": [
            [
             0,
             "#0d0887"
            ],
            [
             0.1111111111111111,
             "#46039f"
            ],
            [
             0.2222222222222222,
             "#7201a8"
            ],
            [
             0.3333333333333333,
             "#9c179e"
            ],
            [
             0.4444444444444444,
             "#bd3786"
            ],
            [
             0.5555555555555556,
             "#d8576b"
            ],
            [
             0.6666666666666666,
             "#ed7953"
            ],
            [
             0.7777777777777778,
             "#fb9f3a"
            ],
            [
             0.8888888888888888,
             "#fdca26"
            ],
            [
             1,
             "#f0f921"
            ]
           ]
          },
          "colorway": [
           "#636efa",
           "#EF553B",
           "#00cc96",
           "#ab63fa",
           "#FFA15A",
           "#19d3f3",
           "#FF6692",
           "#B6E880",
           "#FF97FF",
           "#FECB52"
          ],
          "font": {
           "color": "#2a3f5f"
          },
          "geo": {
           "bgcolor": "white",
           "lakecolor": "white",
           "landcolor": "#E5ECF6",
           "showlakes": true,
           "showland": true,
           "subunitcolor": "white"
          },
          "hoverlabel": {
           "align": "left"
          },
          "hovermode": "closest",
          "mapbox": {
           "style": "light"
          },
          "paper_bgcolor": "white",
          "plot_bgcolor": "#E5ECF6",
          "polar": {
           "angularaxis": {
            "gridcolor": "white",
            "linecolor": "white",
            "ticks": ""
           },
           "bgcolor": "#E5ECF6",
           "radialaxis": {
            "gridcolor": "white",
            "linecolor": "white",
            "ticks": ""
           }
          },
          "scene": {
           "xaxis": {
            "backgroundcolor": "#E5ECF6",
            "gridcolor": "white",
            "gridwidth": 2,
            "linecolor": "white",
            "showbackground": true,
            "ticks": "",
            "zerolinecolor": "white"
           },
           "yaxis": {
            "backgroundcolor": "#E5ECF6",
            "gridcolor": "white",
            "gridwidth": 2,
            "linecolor": "white",
            "showbackground": true,
            "ticks": "",
            "zerolinecolor": "white"
           },
           "zaxis": {
            "backgroundcolor": "#E5ECF6",
            "gridcolor": "white",
            "gridwidth": 2,
            "linecolor": "white",
            "showbackground": true,
            "ticks": "",
            "zerolinecolor": "white"
           }
          },
          "shapedefaults": {
           "line": {
            "color": "#2a3f5f"
           }
          },
          "ternary": {
           "aaxis": {
            "gridcolor": "white",
            "linecolor": "white",
            "ticks": ""
           },
           "baxis": {
            "gridcolor": "white",
            "linecolor": "white",
            "ticks": ""
           },
           "bgcolor": "#E5ECF6",
           "caxis": {
            "gridcolor": "white",
            "linecolor": "white",
            "ticks": ""
           }
          },
          "title": {
           "x": 0.05
          },
          "xaxis": {
           "automargin": true,
           "gridcolor": "white",
           "linecolor": "white",
           "ticks": "",
           "title": {
            "standoff": 15
           },
           "zerolinecolor": "white",
           "zerolinewidth": 2
          },
          "yaxis": {
           "automargin": true,
           "gridcolor": "white",
           "linecolor": "white",
           "ticks": "",
           "title": {
            "standoff": 15
           },
           "zerolinecolor": "white",
           "zerolinewidth": 2
          }
         }
        },
        "xaxis": {
         "anchor": "y",
         "domain": [
          0,
          1
         ],
         "title": {
          "text": "age"
         }
        },
        "yaxis": {
         "anchor": "x",
         "domain": [
          0,
          1
         ],
         "title": {
          "text": "count"
         }
        }
       }
      }
     },
     "metadata": {},
     "output_type": "display_data"
    }
   ],
   "source": [
    "\n",
    "\n",
    "fig = px.histogram(player_data, x=\"age\")  # crear un histograma\n",
    "fig.show()  # crear gráfico de dispersión"
   ]
  },
  {
   "cell_type": "code",
   "execution_count": 11,
   "metadata": {},
   "outputs": [
    {
     "data": {
      "application/vnd.plotly.v1+json": {
       "config": {
        "plotlyServerURL": "https://plot.ly"
       },
       "data": [
        {
         "hovertemplate": "<b>%{hovertext}</b><br><br>position=Goalkeeper<br>age=%{x}<br>market_value=%{y}<extra></extra>",
         "hovertext": [
          "Marc-André ter Stegen",
          "Manuel Neuer",
          "Oliver Baumann",
          "Angus Gunn",
          "Liam Kelly",
          "Zander Clark",
          "Péter Gulácsi",
          "Dénes Dibusz",
          "Péter Szappanos",
          "Gregor Kobel",
          "Yann Sommer",
          "Yvon Mvogo",
          "David Raya",
          "Unai Simón",
          "Álex Remiro",
          "Dominik Livakovic",
          "Nediljko Labrovic",
          "Ivica Ivusic",
          "Thomas Strakosha",
          "Elhan Kastrati",
          "Etrit Berisha",
          "Gianluigi Donnarumma",
          "Guglielmo Vicario",
          "Alex Meret",
          "Jan Oblak",
          "Vid Belec",
          "Igor Vekic",
          "Aaron Ramsdale",
          "Jordan Pickford",
          "Dean Henderson",
          "Mads Hermansen",
          "Frederik Rönnow",
          "Kasper Schmeichel",
          "Djordje Petrovic",
          "Predrag Rajkovic",
          "Vanja Milinković-Savić",
          "Marcin Bulka",
          "Wojciech Szczęsny",
          "Lukasz Skorupski",
          "Bart Verbruggen",
          "Justin Bijlow",
          "Mark Flekken",
          "Niklas Hedl",
          "Patrick Pentz",
          "Heinz Lindner",
          "Mike Maignan",
          "Brice Samba",
          "Alphonse Areola",
          "Matz Sels",
          "Koen Casteels",
          "Thomas Kaminski",
          "Marek Rodak",
          "Henrich Ravas",
          "Martin Dubravka",
          "Ștefan Târnovanu",
          "Horațiu Moldovan",
          "Florin Niță",
          "Anatoliy Trubin",
          "Andriy Lunin",
          "Georgiy Bushchan",
          "Altay Bayındır",
          "Uğurcan Çakır",
          "Mert Günok",
          "Giorgi Mamardashvili",
          "Luka Gugeshashvili",
          "Giorgi Loria",
          "Diogo Costa",
          "José Sá",
          "Rui Patrício",
          "Matej Kovar",
          "Vitezslav Jaros",
          "Jindrich Stanek"
         ],
         "legendgroup": "Goalkeeper",
         "marker": {
          "color": "#636efa",
          "symbol": "circle"
         },
         "mode": "markers",
         "name": "Goalkeeper",
         "orientation": "v",
         "showlegend": true,
         "type": "scatter",
         "x": {
          "bdata": "ICYiHBwfIiEhGiMeHBodHRgdHRsjGRsbHyIaGh4bFx8lGBwbGCIhFRoeFxshHB4fIB8fGxojGBokFhkeGhwjFxkmGB8kGBYc",
          "dtype": "i1"
         },
         "xaxis": "x",
         "y": {
          "bdata": "AD+rAQAJPQDAxi0AoCUmAAA1DABgrgoAwMYtAKAlJgAgoQcAAFpiAkBLTADAxi0AwA4WAoDDyQFAeH0BwNinACCqRACgJSYAwMYtACDWEwAgoQcAAFpiAsAOFgIAG7cAAD+rASChBwDgkwQAQHh9AYCxTwEAG7cAQFSJACCqRABAQg8AAC0xAYCWmABAS0wAAC0xAYCNWwDgZzUAgKgSAUBdxgAAG7cAgIQeAGDjFgDgkwQAgNVDAsDh5ACAlpgAwM9qAICNWwDAxi0AwMYtAGDjFgBAQg8AwMYtAKAlJgDobgMAQHh9AUB4fQHAz2oAgJaYAAASegCATxIAwA4WAsAnCQBQwwAAAFpiAoCf1QBAQg8AwM9qAEBLTADgZzUA",
          "dtype": "i4"
         },
         "yaxis": "y"
        },
        {
         "hovertemplate": "<b>%{hovertext}</b><br><br>position=Centre-Back<br>age=%{x}<br>market_value=%{y}<extra></extra>",
         "hovertext": [
          "Nico Schlotterbeck",
          "Jonathan Tah",
          "Antonio Rüdiger",
          "Waldemar Anton",
          "Robin Koch",
          "Scott McKenna",
          "Jack Hendry",
          "Ryan Porteous",
          "Liam Cooper",
          "Grant Hanley",
          "Willi Orbán",
          "Attila Szalai",
          "Márton Dárdai",
          "Botond Balogh",
          "Ádám Lang",
          "Manuel Akanji",
          "Nico Elvedi",
          "Fabian Schär",
          "Leonidas Stergiou",
          "Cédric Zesiger",
          "Ricardo Rodríguez",
          "Robin Le Normand",
          "Dani Vivian",
          "Aymeric Laporte",
          "Nacho Fernández",
          "Josip Stanisic",
          "Josip Sutalo",
          "Marin Pongracic",
          "Martin Erlić",
          "Domagoj Vida",
          "Berat Djimsiti",
          "Marash Kumbulla",
          "Ardian Ismajli",
          "Enea Mihaj",
          "Arlind Ajeti",
          "Alessandro Bastoni",
          "Alessandro Buongiorno",
          "Riccardo Calafiori",
          "Gianluca Mancini",
          "Federico Gatti",
          "Jaka Bijol",
          "David Brekalo",
          "Vanja Drkusic",
          "Zan Zaletel",
          "John Stones",
          "Marc Guéhi",
          "Ezri Konsa",
          "Joe Gomez",
          "Lewis Dunk",
          "Andreas Christensen",
          "Joachim Andersen",
          "Jannik Vestergaard",
          "Simon Kjær",
          "Zanka",
          "Strahinja Pavlovic",
          "Nikola Milenković",
          "Milos Veljkovic",
          "Srdjan Babic",
          "Nemanja Gudelj",
          "Nemanja Stojic",
          "Uros Spajic",
          "Jan Bednarek",
          "Paweł Dawidowicz",
          "Sebastian Walukiewicz",
          "Bartosz Salamon",
          "Matthijs de Ligt",
          "Micky van de Ven",
          "Nathan Aké",
          "Virgil van Dijk",
          "Stefan de Vrij",
          "Daley Blind",
          "Kevin Danso",
          "Philipp Lienhart",
          "Maximilian Wöber",
          "Flavius Daniliuc",
          "Leopold Querfeld",
          "Gernot Trauner",
          "William Saliba",
          "Benjamin Pavard",
          "Dayot Upamecano",
          "Jules Koundé",
          "Ibrahima Konaté",
          "Arthur Theate",
          "Wout Faes",
          "Zeno Debast",
          "Axel Witsel",
          "Jan Vertonghen",
          "David Hancko",
          "Milan Skriniar",
          "Denis Vavro",
          "Adam Obert",
          "Norbert Gyomber",
          "Sebastian Kosa",
          "Vernon De Marco",
          "Radu Drăgușin",
          "Andrei Burcă",
          "Bogdan Racovițan",
          "Ionuț Nedelcearu",
          "Adrian Rus",
          "Ilya Zabarnyi",
          "Mykola Matvienko",
          "Valeriy Bondar",
          "Maksym Taloverov",
          "Oleksandr Svatok",
          "Merih Demiral",
          "Ahmetcan Kaplan",
          "Abdülkerim Bardakcı",
          "Kaan Ayhan",
          "Samet Akaydin",
          "Luka Lochoshvili",
          "Lasha Dvali",
          "Solomon Kvirkvelia",
          "Jemal Tabidze",
          "Giorgi Gvelesiani",
          "Guram Kashia",
          "Rúben Dias",
          "Gonçalo Inácio",
          "António Silva",
          "Pepe",
          "Martin Vitík",
          "Ladislav Krejci",
          "Tomas Vlcek",
          "Robin Hranac",
          "David Zima",
          "Tomas Holes"
         ],
         "legendgroup": "Centre-Back",
         "marker": {
          "color": "#EF553B",
          "symbol": "circle"
         },
         "mode": "markers",
         "name": "Centre-Back",
         "orientation": "v",
         "showlegend": true,
         "type": "scatter",
         "x": {
          "bdata": "GBwfGxsbHRkgIB8aFhYfHBsgFhkfGxgeIhgYGhojHxgbGR4ZGRYcGRkZGBgeFxobIBwcHyMiFxocHCAaHxwdGCEYFx0gICIZGxoXFCAXHBkZGRgaFCMlGh0cFR8UHxYfGBwcFRwZFx0aFR0dHhodIBwhJBsWFCkVGRcYFx8=",
          "dtype": "i1"
         },
         "xaxis": "x",
         "y": {
          "bdata": "AFpiAoDDyQFAeH0BAC0xAYCoEgGAlpgAwMYtAMDGLQBAQg8AoLsNAICWmAAACT0AoCUmAEB3GwDQ3QYAQKWuAoCWmACAlpgAQEtMAEBLTADgZzUAAFpiAkB4fQEALTEBwMYtAAA/qwHA4eQAwM9qAMDGLQCATxIAgJaYACCqRADAxi0AYOMWAEBCDwCAHSwEwA4WAoDDyQFAeH0BgKgSAYCWmADgZzUAgLkqAIBPEgCA1UMCgNVDAsAOFgIAP6sBABu3AABaYgLADhYCwMYtAGDjFgBAQg8AQHh9AcDh5AAgqkQAAAk9AOBnNQCAhB4AgE8SAMDYpwDAxi0AoCUmACChBwBA0t8DwDtHAwBaYgKAw8kBwM9qAMDGLQBAeH0BwOHkAICWmACAjVsAQEtMAOBnNQAAtMQEgPD6AkClrgJApa4CQKWuAgAtMQEALTEBgKgSAeBnNQBg4xYAwA4WAoDDyQEACT0A4Gc1ACDWEwCATxIAIKEHAEB4fQHAxi0AQHcbAEBCDwBgrgoAAEjoAYCoEgFAS0wAoCUmAICEHgAAJPQAgJaYAEBUiQBgt0cAoCUmAODIEACguw0AYK4KACChBwCAGgYAkNADAAC0xARApa4CQKWuAiChBwAAG7cAgJaYAICNWwBAS0wAAAk9AMCRIQA=",
          "dtype": "i4"
         },
         "yaxis": "y"
        },
        {
         "hovertemplate": "<b>%{hovertext}</b><br><br>position=Left-Back<br>age=%{x}<br>market_value=%{y}<extra></extra>",
         "hovertext": [
          "David Raum",
          "Maximilian Mittelstädt",
          "Andrew Robertson",
          "Kieran Tierney",
          "Greg Taylor",
          "Milos Kerkez",
          "Zsolt Nagy",
          "Alejandro Grimaldo",
          "Marc Cucurella",
          "Josko Gvardiol",
          "Borna Sosa",
          "Mario Mitaj",
          "Naser Aliji",
          "Federico Dimarco",
          "Andrea Cambiaso",
          "Jure Balkovec",
          "Erik Janza",
          "Luke Shaw",
          "Victor Kristiansen",
          "Filip Mladenovic",
          "Jakub Kiwior",
          "Tymoteusz Puchacz",
          "Phillipp Mwene",
          "Theo Hernández",
          "Ferland Mendy",
          "Maxim De Cuyper",
          "Nicuşor Bancu",
          "Oleksandr Zinchenko",
          "Vitaliy Mykolenko",
          "Bogdan Mykhaylichenko",
          "Ferdi Kadıoğlu",
          "Nuno Mendes",
          "David Jurásek"
         ],
         "legendgroup": "Left-Back",
         "marker": {
          "color": "#00cc96",
          "symbol": "circle"
         },
         "mode": "markers",
         "name": "Left-Back",
         "orientation": "v",
         "showlegend": true,
         "type": "scatter",
         "x": {
          "bdata": "GhseGxoUHxwZFhoUHhoYHR4cFSAYGR4aHRcfGxkbGBUX",
          "dtype": "i1"
         },
         "xaxis": "x",
         "y": {
          "bdata": "AC0xAUBmAwGAw8kBABu3AOBwcgAALTEBQEIPAEClrgJAeH0BwGh4BOBwcgCAhB4AgBoGAIDw+gJAeH0BgE8SAMAnCQAASOgBwOHkAKC7DQCAw8kBgIQeAEB3GwAAh5MDgLFPAUBUiQBg4xYAgNVDAgA/qwGgJSYAQG9AAcA7RwMAEnoA",
          "dtype": "i4"
         },
         "yaxis": "y"
        },
        {
         "hovertemplate": "<b>%{hovertext}</b><br><br>position=Right-Back<br>age=%{x}<br>market_value=%{y}<extra></extra>",
         "hovertext": [
          "Joshua Kimmich",
          "Benjamin Henrichs",
          "Anthony Ralston",
          "Ross McCrorie",
          "Bendegúz Bolla",
          "Endre Botka",
          "Loïc Nego",
          "Attila Fiola",
          "Silvan Widmer",
          "Daniel Carvajal",
          "Jesús Navas",
          "Josip Juranovic",
          "Elseid Hysaj",
          "Iván Balliu",
          "Giovanni Di Lorenzo",
          "Raoul Bellanova",
          "Matteo Darmian",
          "Petar Stojanović",
          "Zan Karnicnik",
          "Trent Alexander-Arnold",
          "Kyle Walker",
          "Kieran Trippier",
          "Joakim Maehle",
          "Alexander Bah",
          "Rasmus Kristensen",
          "Bartosz Bereszyński",
          "Lutsharel Geertruida",
          "Stefan Posch",
          "Jonathan Clauss",
          "Timothy Castagne",
          "Thomas Meunier",
          "Peter Pekarik",
          "Andrei Rațiu",
          "Vasile Mogoș",
          "Yukhym Konoplya",
          "Oleksandr Tymchyk",
          "Zeki Çelik",
          "Mert Müldür",
          "Giorgi Gocholeishvili",
          "Diogo Dalot",
          "João Cancelo",
          "Nélson Semedo",
          "Vladimír Coufal"
         ],
         "legendgroup": "Right-Back",
         "marker": {
          "color": "#ab63fa",
          "symbol": "circle"
         },
         "mode": "markers",
         "name": "Right-Back",
         "orientation": "v",
         "showlegend": true,
         "type": "scatter",
         "x": {
          "bdata": "HRsZGhgdISIfICYcHiAeGCIcHRkiIRsaGh8XGx8cICUZHxgbGxkXGR4eHw==",
          "dtype": "i1"
         },
         "xaxis": "x",
         "y": {
          "bdata": "gPD6AgAtMQFAdxsAQHcbAICEHgBAQg8AoLsNAIAaBgDAxi0AABu3AKAlJgDgcHIAoCUmAICEHgDA4eQAwOHkAAAJPQAg1hMAQEIPAIAdLARAXcYAgJaYAICf1QBAXcYAgJaYACDWEwAASOgBgJ/VAAAbtwBAZgMBoCUmAOCTBADAXBUAoLsNAICNWwAACT0AgI1bAEAWQACgJSYAwA4WAkB4fQEAG7cAABJ6AA==",
          "dtype": "i4"
         },
         "yaxis": "y"
        },
        {
         "hovertemplate": "<b>%{hovertext}</b><br><br>position=Defensive Midfield<br>age=%{x}<br>market_value=%{y}<extra></extra>",
         "hovertext": [
          "Aleksandar Pavlovic",
          "Robert Andrich",
          "Scott McTominay",
          "Billy Gilmour",
          "Ádám Nagy",
          "Denis Zakaria",
          "Granit Xhaka",
          "Ardon Jashari",
          "Rodri",
          "Martín Zubimendi",
          "Marcelo Brozovic",
          "Kristjan Asllani",
          "Ylber Ramadani",
          "Klaus Gjasula",
          "Amir Abrashi",
          "Bryan Cristante",
          "Jorginho",
          "Jon Gorenc Stankovic",
          "Adrian Zeljkovic",
          "Declan Rice",
          "Morten Hjulmand",
          "Christian Nørgaard",
          "Pierre-Emile Højbjerg",
          "Srdjan Mijailovic",
          "Jakub Piotrowski",
          "Bartosz Slisz",
          "Damian Szymanski",
          "Jakub Kaluzinski",
          "Taras Romanczuk",
          "Jerdy Schouten",
          "Florian Grillitsch",
          "Aurélien Tchouaméni",
          "N'Golo Kanté",
          "Amadou Onana",
          "Stanislav Lobotka",
          "Adrian Șut",
          "Volodymyr Brazhko",
          "Taras Stepanenko",
          "Sergiy Sydorchuk",
          "Hakan Çalhanoğlu",
          "İsmail Yüksek",
          "Salih Özcan",
          "Okay Yokuşlu",
          "Anzor Mekvabishvili",
          "Nika Kvekveskiri",
          "João Palhinha",
          "João Neves",
          "Rúben Neves",
          "Danilo Pereira",
          "Tomas Soucek"
         ],
         "legendgroup": "Defensive Midfield",
         "marker": {
          "color": "#FFA15A",
          "symbol": "circle"
         },
         "mode": "markers",
         "name": "Defensive Midfield",
         "orientation": "v",
         "showlegend": true,
         "type": "scatter",
         "x": {
          "bdata": "FB0bFhwbHxUbGR8WHCIiHSAcFRkYHhweGhkcFSAbHBghFh0ZFiIhHhkaHhcgHBMbIB0=",
          "dtype": "i1"
         },
         "xaxis": "x",
         "y": {
          "bdata": "gMPJAUBmAwEASOgBgKgSAaC7DQBAeH0BAC0xAYCNWwAADicHgPD6AgAk9ACAqBIBAAk9AIAaBgBADQMAAC0xAQAbtwAgqkQAgIQeAAAOJwcAWmICgKgSAYCoEgGg8BkAQEtMAEBLTADgZzUAIAsgACChBwAAP6sBoC5jAADh9QVAVIkAgPD6AgA/qwHgMikAQEtMAKAlJgCAhB4AQKWuAgAbtwCAlpgAwMYtAIBPEgAgoQcAwDtHA8A7RwMASOgBABJ6AIDDyQE=",
          "dtype": "i4"
         },
         "yaxis": "y"
        },
        {
         "hovertemplate": "<b>%{hovertext}</b><br><br>position=Central Midfield<br>age=%{x}<br>market_value=%{y}<extra></extra>",
         "hovertext": [
          "İlkay Gündoğan",
          "Toni Kroos",
          "Pascal Groß",
          "John McGinn",
          "Callum McGregor",
          "Stuart Armstrong",
          "Ryan Jack",
          "Kenny McLean",
          "Dominik Szoboszlai",
          "András Schäfer",
          "Callum Styles",
          "Mihály Kata",
          "Michel Aebischer",
          "Remo Freuler",
          "Vincent Sierro",
          "Pedri",
          "Mikel Merino",
          "Fabián Ruiz",
          "Fermín López",
          "Mateo Kovacic",
          "Luka Sucic",
          "Mario Pasalic",
          "Luka Modric",
          "Qazim Laci",
          "Medon Berisha",
          "Nicolò Barella",
          "Davide Frattesi",
          "Nicolò Fagioli",
          "Michael Folorunsho",
          "Sandi Lovric",
          "Adam Gnezda Cerin",
          "Miha Zajc",
          "Timi Max Elsnik",
          "Jasmin Kurtic",
          "Conor Gallagher",
          "Kobbie Mainoo",
          "Adam Wharton",
          "Mathias Jensen",
          "Christian Eriksen",
          "Thomas Delaney",
          "Sergej Milinković-Savić",
          "Lazar Samardžić",
          "Ivan Ilić",
          "Saša Lukić",
          "Nemanja Maksimovic",
          "Piotr Zieliński",
          "Jakub Moder",
          "Kacper Urbanski",
          "Frenkie de Jong",
          "Joey Veerman",
          "Ryan Gravenberch",
          "Tijjani Reijnders",
          "Georginio Wijnaldum",
          "Konrad Laimer",
          "Marcel Sabitzer",
          "Nicolas Seiwald",
          "Eduardo Camavinga",
          "Warren Zaïre-Emery",
          "Adrien Rabiot",
          "Youssouf Fofana",
          "Youri Tielemans",
          "Arthur Vermeeren",
          "Orel Mangala",
          "Aster Vranckx",
          "Laszlo Benes",
          "Ondrej Duda",
          "Patrik Hrosovsky",
          "Matus Bero",
          "Tomas Rigo",
          "Juraj Kucka",
          "Răzvan Marin",
          "Marius Marin",
          "Mykola Shaparenko",
          "Orkun Kökçü",
          "Gabriel Sigua",
          "Giorgi Kochorashvili",
          "Sandro Altunashvili",
          "Matheus Nunes",
          "Vitinha",
          "Michal Sadílek",
          "Lukas Cerv"
         ],
         "legendgroup": "Central Midfield",
         "marker": {
          "color": "#19d3f3",
          "symbol": "circle"
         },
         "mode": "markers",
         "name": "Central Midfield",
         "orientation": "v",
         "showlegend": true,
         "type": "scatter",
         "x": {
          "bdata": "ISIgHR4gICAXGRgWGyAcFRscFR4VHSYcFBsYFxoaGB0aIxgTFBwgIB0WFxsdHhkTGxkWGSEbHhcVEh0ZGxMaFRodIBwVJRwZGRcSGBsZGBkX",
          "dtype": "i1"
         },
         "xaxis": "x",
         "y": {
          "bdata": "wOHkAICWmAAAEnoAgMPJASCzgQCAhB4AQEIPAKC7DQDAaHgEQEtMAKAlJgBAQg8AQFSJAKAuYwAACT0AALTEBIDw+gKAw8kBgMPJAYDDyQHA4eQAQF3GAICNWwCgJSYAQEIPAAC0xATADhYCwOHkACCzgQAAEnoA4Gc1AACfJABg4xYAIKEHAIDw+gKA8PoCgMPJAQA/qwEAEnoAoCUmAIDDyQEALTEBgKgSAYCWmACAjVsAgLFPAYCWmADAz2oAgB0sBABaYgLADhYCgMPJAQAJPQCAw8kBAC0xAQAk9AAA4fUFAIeTA8AOFgKAw8kBQHh9AUB4fQEALTEBABu3AEBLTAAACT0A4Gc1AOBnNQDAkSEAIKEHAOAyKQAAahgAQFSJAMD8mwGgJSYAQEIPAAA1DACA8PoCgPD6AgASegBg4xYA",
          "dtype": "i4"
         },
         "yaxis": "y"
        },
        {
         "hovertemplate": "<b>%{hovertext}</b><br><br>position=Attacking Midfield<br>age=%{x}<br>market_value=%{y}<extra></extra>",
         "hovertext": [
          "Florian Wirtz",
          "Jamal Musiala",
          "Kai Havertz",
          "Ryan Christie",
          "Dániel Gazdag",
          "László Kleinheisler",
          "Krisztofer Horváth",
          "Fabian Rieder",
          "Xherdan Shaqiri",
          "Dani Olmo",
          "Álex Baena",
          "Lovro Majer",
          "Martin Baturina",
          "Nikola Vlašić",
          "Ernest Muci",
          "Nedim Bajrami",
          "Lorenzo Pellegrini",
          "Josip Ilicic",
          "Jude Bellingham",
          "Cole Palmer",
          "Eberechi Eze",
          "Mijat Gacinovic",
          "Sebastian Szymanski",
          "Xavi Simons",
          "Teun Koopmeiners",
          "Christoph Baumgartner",
          "Romano Schmid",
          "Florian Kainz",
          "Matthias Seidl",
          "Andreas Weimann",
          "Kevin De Bruyne",
          "Charles De Ketelaere",
          "Tomas Suslov",
          "Darius Olaru",
          "Nicolae Stanciu",
          "Alexandru Cicâldău",
          "Ianis Hagi",
          "Georgiy Sudakov",
          "Ruslan Malinovskyi",
          "Arda Güler",
          "Yusuf Yazıcı",
          "Otar Kiteishvili",
          "Giorgi Chakvetadze",
          "Bruno Fernandes",
          "Bernardo Silva",
          "Pavel Sulc",
          "Antonín Barák",
          "Ondrej Lingr"
         ],
         "legendgroup": "Attacking Midfield",
         "marker": {
          "color": "#FF6692",
          "symbol": "circle"
         },
         "mode": "markers",
         "name": "Attacking Midfield",
         "orientation": "v",
         "showlegend": true,
         "type": "scatter",
         "x": {
          "bdata": "FRUYHRweFhYgGhYaFRoXGRskFBYZHRkVGhgYHxcgIBcWGh8aGRUfExscGB0dFx0Z",
          "dtype": "i1"
         },
         "xaxis": "x",
         "y": {
          "bdata": "gKS/BwAOJweAHSwEABu3AAASegBg4xYAgE8SAAASegCgJSYAgPD6AgBaYgIALTEBAC0xAYCWmABAXcYAIKpEAEB4fQHgkwQAAJW6CgC0xATAO0cDwMYtAMDqIQEAtMQEgPD6AoCoEgGAlpgAoCUmAKAlJgCguw0AgPD6AoDMBgLAz2oAwM9qACCqRADAxi0AgIQeAMAOFgIAEnoAgMPJAYCWmABAS0wAoCUmAIAdLASAHSwEgI1bACCqRADgZzUA",
          "dtype": "i4"
         },
         "yaxis": "y"
        },
        {
         "hovertemplate": "<b>%{hovertext}</b><br><br>position=Left Winger<br>age=%{x}<br>market_value=%{y}<extra></extra>",
         "hovertext": [
          "Chris Führich",
          "Lewis Morgan",
          "Noah Okafor",
          "Steven Zuber",
          "Nico Williams",
          "Ferran Torres",
          "Ayoze Pérez",
          "Luka Ivanusec",
          "Marko Pjaca",
          "Ivan Perisic",
          "Arbër Hoxha",
          "Federico Chiesa",
          "Mattia Zaccagni",
          "Stephan El Shaarawy",
          "Benjamin Verbic",
          "Anthony Gordon",
          "Mikkel Damsgaard",
          "Jacob Bruun Larsen",
          "Veljko Birmancevic",
          "Dusan Tadic",
          "Michal Skoras",
          "Kamil Grosicki",
          "Cody Gakpo",
          "Steven Bergwijn",
          "Marco Grüll",
          "Kingsley Coman",
          "Bradley Barcola",
          "Jérémy Doku",
          "Leandro Trossard",
          "Yannick Carrasco",
          "Lukas Haraslin",
          "Leo Sauer",
          "Ivan Schranz",
          "Lubomir Tupta",
          "David Duris",
          "Florinel Coman",
          "Valentin Mihăilă",
          "Mykhaylo Mudryk",
          "Kerem Aktürkoğlu",
          "Khvicha Kvaratskhelia",
          "Saba Lobjanidze",
          "Georgiy Tsitaishvili",
          "Rafael Leão",
          "Diogo Jota"
         ],
         "legendgroup": "Left Winger",
         "marker": {
          "color": "#B6E880",
          "symbol": "circle"
         },
         "mode": "markers",
         "name": "Left Winger",
         "orientation": "v",
         "showlegend": true,
         "type": "scatter",
         "x": {
          "bdata": "GhsYIBUYHhkdIxkaHB8eFxcZGiMYJBkaGRsVFh0eHBIeGhkaGBcZFx0XGBs=",
          "dtype": "i1"
         },
         "xaxis": "x",
         "y": {
          "bdata": "AD+rAQAJPQAALTEBgIQeAACHkwOAw8kBwM9qAAAbtwCgJSYAgIQeAEB3GwDADhYCAC0xAUBLTACAhB4AAIeTA4CWmAAAEnoAQFSJAOBnNQBAS0wAIKEHAIDw+gKAqBIBAAk9AIDw+gKA8PoCQNLfA8AOFgKAn9UAYOxTAEBLTACAhB4AADUMAMAnCQDAz2oAgLkqAMAOFgLA4eQAALTEBICEHgAANQwAgEpdBYDw+gI=",
          "dtype": "i4"
         },
         "yaxis": "y"
        },
        {
         "hovertemplate": "<b>%{hovertext}</b><br><br>position=Right Winger<br>age=%{x}<br>market_value=%{y}<extra></extra>",
         "hovertext": [
          "Leroy Sané",
          "James Forrest",
          "Roland Sallai",
          "Kevin Csoboth",
          "Dan Ndoye",
          "Rubén Vargas",
          "Renato Steffen",
          "Lamine Yamal",
          "Marco Pasalic",
          "Jasir Asani",
          "Phil Foden",
          "Bukayo Saka",
          "Jarrod Bowen",
          "Andreas Skov Olsen",
          "Anders Dreyer",
          "Andrija Zivkovic",
          "Donyell Malen",
          "Patrick Wimmer",
          "Ousmane Dembélé",
          "Johan Bakayoko",
          "Dodi Lukébakio",
          "Dennis Man",
          "Deian Sorescu",
          "Viktor Tsygankov",
          "Oleksandr Zubkov",
          "Andriy Yarmolenko",
          "Barış Alper Yılmaz",
          "İrfan Can Kahveci",
          "Yunus Akgün",
          "Zuriko Davitashvili",
          "Levan Shengelia",
          "Pedro Neto",
          "Francisco Conceição",
          "Matej Jurasek",
          "Vaclav Cerny"
         ],
         "legendgroup": "Right Winger",
         "marker": {
          "color": "#FF97FF",
          "symbol": "circle"
         },
         "mode": "markers",
         "name": "Right Winger",
         "orientation": "v",
         "showlegend": true,
         "type": "scatter",
         "x": {
          "bdata": "HCAbFxcZIBAXHRgWGxgaGxkXGxUaGRoaGyIYHBcXHBgVFBo=",
          "dtype": "i1"
         },
         "xaxis": "x",
         "y": {
          "bdata": "gB0sBEBCDwDA4eQAQEIPAICf1QDgcHIAQEIPAIBKXQUACT0AQEIPAIDR8AgAO1gIgPD6AoCoEgHA4eQAABJ6AABaYgLA4eQAAIeTA0ClrgIAG7cAQFSJAEBCDwCAw8kBwM9qAICEHgBAZgMBgJaYAEBLTADAxi0AsHELAMA7RwOAsU8BABJ6AMDPagA=",
          "dtype": "i4"
         },
         "yaxis": "y"
        },
        {
         "hovertemplate": "<b>%{hovertext}</b><br><br>position=Second Striker<br>age=%{x}<br>market_value=%{y}<extra></extra>",
         "hovertext": [
          "Thomas Müller",
          "Giacomo Raspadori",
          "Kenan Yıldız",
          "João Félix",
          "Adam Hlozek"
         ],
         "legendgroup": "Second Striker",
         "marker": {
          "color": "#FECB52",
          "symbol": "circle"
         },
         "mode": "markers",
         "name": "Second Striker",
         "orientation": "v",
         "showlegend": true,
         "type": "scatter",
         "x": {
          "bdata": "IhgTGBU=",
          "dtype": "i1"
         },
         "xaxis": "x",
         "y": {
          "bdata": "ABJ6AEB4fQGAw8kBgMPJAQAbtwA=",
          "dtype": "i4"
         },
         "yaxis": "y"
        },
        {
         "hovertemplate": "<b>%{hovertext}</b><br><br>position=Centre-Forward<br>age=%{x}<br>market_value=%{y}<extra></extra>",
         "hovertext": [
          "Maximilian Beier",
          "Deniz Undav",
          "Niclas Füllkrug",
          "Ché Adams",
          "Lawrence Shankland",
          "Tommy Conway",
          "Barnabás Varga",
          "Martin Ádám",
          "Breel Embolo",
          "Zeki Amdouni",
          "Kwadwo Duah",
          "Mikel Oyarzabal",
          "Álvaro Morata",
          "Joselu",
          "Andrej Kramaric",
          "Ante Budimir",
          "Bruno Petkovic",
          "Armando Broja",
          "Rey Manaj",
          "Taulant Seferi",
          "Mirlind Daku",
          "Gianluca Scamacca",
          "Mateo Retegui",
          "Benjamin Sesko",
          "Andraz Sporar",
          "Jan Mlakar",
          "Zan Vipotnik",
          "Luka Zahovic",
          "Harry Kane",
          "Ollie Watkins",
          "Ivan Toney",
          "Rasmus Højlund",
          "Jonas Wind",
          "Kasper Dolberg",
          "Yussuf Poulsen",
          "Dušan Vlahović",
          "Aleksandar Mitrovic",
          "Luka Jović",
          "Petar Ratkov",
          "Robert Lewandowski",
          "Adam Buksa",
          "Krzysztof Piatek",
          "Karol Świderski",
          "Brian Brobbey",
          "Memphis Depay",
          "Wout Weghorst",
          "Michael Gregoritsch",
          "Marko Arnautovic",
          "Maximilian Entrup",
          "Kylian Mbappé",
          "Marcus Thuram",
          "Randal Kolo Muani",
          "Antoine Griezmann",
          "Olivier Giroud",
          "Loïs Openda",
          "Romelu Lukaku",
          "Robert Bozenik",
          "David Strelec",
          "Denis Drăguș",
          "Daniel Bîrligea",
          "George Pușcaș",
          "Denis Alibec",
          "Artem Dovbyk",
          "Vladyslav Vanat",
          "Roman Yaremchuk",
          "Semih Kılıçsoy",
          "Bertuğ Yıldırım",
          "Cenk Tosun",
          "Georges Mikautadze",
          "Giorgi Kvilitaia",
          "Budu Zivzivadze",
          "Gonçalo Ramos",
          "Cristiano Ronaldo",
          "Patrik Schick",
          "Mojmír Chytil",
          "Jan Kuchta",
          "Tomas Chory"
         ],
         "legendgroup": "Centre-Forward",
         "marker": {
          "color": "#636efa",
          "symbol": "circle"
         },
         "mode": "markers",
         "name": "Centre-Forward",
         "orientation": "v",
         "showlegend": true,
         "type": "scatter",
         "x": {
          "bdata": "FRsfGxwVHR0bFxsbHyIgIB0WGxsaGRkVHhkWHB4cHBUZGh0YHRoUIxscGxYeHx4jGhkaGSElGB8YFxgYHCEaFhwSFSEXHh4WJxwZGx0=",
          "dtype": "i1"
         },
         "xaxis": "x",
         "y": {
          "bdata": "gMPJAUB4fQHA4eQAwOHkAAAJPQAACT0AoCUmAAA1DAAAG7cAABu3AMDGLQBApa4CACT0AEBLTABAS0wAQEtMAEBLTACAsU8BQEtMAOBnNQDAxi0AwA4WAgAk9ACA8PoCAAk9AKAlJgCgJSYAgBoGAADh9QVA0t8DgPD6AkDS3wMALTEBABu3AICNWwBA0t8DAD+rAcDPagBAS0wAwOHkAICNWwCAjVsAQEtMAMAOFgKAlpgAgI1bAAASegAACT0AgIQeAACVugpA0t8DQKWuAkB4fQHAxi0AAIeTA4DDyQFAS0wAgLkqAAAJPQAAahgAYOMWAGCuCgDADhYCgJaYAOBnNQAAG7cA4Gc1AICEHgDA4eQAAGoYAKC7DQCA8PoCwOHkAICxTwGgLmMAQEtMAADUMAA=",
          "dtype": "i4"
         },
         "yaxis": "y"
        },
        {
         "hovertemplate": "<b>%{hovertext}</b><br><br>position=Right Midfield<br>age=%{x}<br>market_value=%{y}<extra></extra>",
         "hovertext": [
          "Tomi Horvat",
          "Przemyslaw Frankowski",
          "Jeremie Frimpong",
          "Denzel Dumfries",
          "Otar Kakabadze",
          "David Doudera"
         ],
         "legendgroup": "Right Midfield",
         "marker": {
          "color": "#EF553B",
          "symbol": "circle"
         },
         "mode": "markers",
         "name": "Right Midfield",
         "orientation": "v",
         "showlegend": true,
         "type": "scatter",
         "x": {
          "bdata": "GR0XHBwa",
          "dtype": "i1"
         },
         "xaxis": "x",
         "y": {
          "bdata": "QEtMAEBUiQCA8PoCADZuAcAnCQDAxi0A",
          "dtype": "i4"
         },
         "yaxis": "y"
        },
        {
         "hovertemplate": "<b>%{hovertext}</b><br><br>position=Left Midfield<br>age=%{x}<br>market_value=%{y}<extra></extra>",
         "hovertext": [
          "Filip Kostić",
          "Nicola Zalewski",
          "Alexander Prass",
          "Lukas Provod"
         ],
         "legendgroup": "Left Midfield",
         "marker": {
          "color": "#00cc96",
          "symbol": "circle"
         },
         "mode": "markers",
         "name": "Left Midfield",
         "orientation": "v",
         "showlegend": true,
         "type": "scatter",
         "x": {
          "bdata": "HxYXGw==",
          "dtype": "i1"
         },
         "xaxis": "x",
         "y": {
          "bdata": "oC5jAAAbtwAAG7cAwMYtAA==",
          "dtype": "i4"
         },
         "yaxis": "y"
        }
       ],
       "layout": {
        "legend": {
         "title": {
          "text": "position"
         },
         "tracegroupgap": 0
        },
        "template": {
         "data": {
          "bar": [
           {
            "error_x": {
             "color": "#2a3f5f"
            },
            "error_y": {
             "color": "#2a3f5f"
            },
            "marker": {
             "line": {
              "color": "#E5ECF6",
              "width": 0.5
             },
             "pattern": {
              "fillmode": "overlay",
              "size": 10,
              "solidity": 0.2
             }
            },
            "type": "bar"
           }
          ],
          "barpolar": [
           {
            "marker": {
             "line": {
              "color": "#E5ECF6",
              "width": 0.5
             },
             "pattern": {
              "fillmode": "overlay",
              "size": 10,
              "solidity": 0.2
             }
            },
            "type": "barpolar"
           }
          ],
          "carpet": [
           {
            "aaxis": {
             "endlinecolor": "#2a3f5f",
             "gridcolor": "white",
             "linecolor": "white",
             "minorgridcolor": "white",
             "startlinecolor": "#2a3f5f"
            },
            "baxis": {
             "endlinecolor": "#2a3f5f",
             "gridcolor": "white",
             "linecolor": "white",
             "minorgridcolor": "white",
             "startlinecolor": "#2a3f5f"
            },
            "type": "carpet"
           }
          ],
          "choropleth": [
           {
            "colorbar": {
             "outlinewidth": 0,
             "ticks": ""
            },
            "type": "choropleth"
           }
          ],
          "contour": [
           {
            "colorbar": {
             "outlinewidth": 0,
             "ticks": ""
            },
            "colorscale": [
             [
              0,
              "#0d0887"
             ],
             [
              0.1111111111111111,
              "#46039f"
             ],
             [
              0.2222222222222222,
              "#7201a8"
             ],
             [
              0.3333333333333333,
              "#9c179e"
             ],
             [
              0.4444444444444444,
              "#bd3786"
             ],
             [
              0.5555555555555556,
              "#d8576b"
             ],
             [
              0.6666666666666666,
              "#ed7953"
             ],
             [
              0.7777777777777778,
              "#fb9f3a"
             ],
             [
              0.8888888888888888,
              "#fdca26"
             ],
             [
              1,
              "#f0f921"
             ]
            ],
            "type": "contour"
           }
          ],
          "contourcarpet": [
           {
            "colorbar": {
             "outlinewidth": 0,
             "ticks": ""
            },
            "type": "contourcarpet"
           }
          ],
          "heatmap": [
           {
            "colorbar": {
             "outlinewidth": 0,
             "ticks": ""
            },
            "colorscale": [
             [
              0,
              "#0d0887"
             ],
             [
              0.1111111111111111,
              "#46039f"
             ],
             [
              0.2222222222222222,
              "#7201a8"
             ],
             [
              0.3333333333333333,
              "#9c179e"
             ],
             [
              0.4444444444444444,
              "#bd3786"
             ],
             [
              0.5555555555555556,
              "#d8576b"
             ],
             [
              0.6666666666666666,
              "#ed7953"
             ],
             [
              0.7777777777777778,
              "#fb9f3a"
             ],
             [
              0.8888888888888888,
              "#fdca26"
             ],
             [
              1,
              "#f0f921"
             ]
            ],
            "type": "heatmap"
           }
          ],
          "histogram": [
           {
            "marker": {
             "pattern": {
              "fillmode": "overlay",
              "size": 10,
              "solidity": 0.2
             }
            },
            "type": "histogram"
           }
          ],
          "histogram2d": [
           {
            "colorbar": {
             "outlinewidth": 0,
             "ticks": ""
            },
            "colorscale": [
             [
              0,
              "#0d0887"
             ],
             [
              0.1111111111111111,
              "#46039f"
             ],
             [
              0.2222222222222222,
              "#7201a8"
             ],
             [
              0.3333333333333333,
              "#9c179e"
             ],
             [
              0.4444444444444444,
              "#bd3786"
             ],
             [
              0.5555555555555556,
              "#d8576b"
             ],
             [
              0.6666666666666666,
              "#ed7953"
             ],
             [
              0.7777777777777778,
              "#fb9f3a"
             ],
             [
              0.8888888888888888,
              "#fdca26"
             ],
             [
              1,
              "#f0f921"
             ]
            ],
            "type": "histogram2d"
           }
          ],
          "histogram2dcontour": [
           {
            "colorbar": {
             "outlinewidth": 0,
             "ticks": ""
            },
            "colorscale": [
             [
              0,
              "#0d0887"
             ],
             [
              0.1111111111111111,
              "#46039f"
             ],
             [
              0.2222222222222222,
              "#7201a8"
             ],
             [
              0.3333333333333333,
              "#9c179e"
             ],
             [
              0.4444444444444444,
              "#bd3786"
             ],
             [
              0.5555555555555556,
              "#d8576b"
             ],
             [
              0.6666666666666666,
              "#ed7953"
             ],
             [
              0.7777777777777778,
              "#fb9f3a"
             ],
             [
              0.8888888888888888,
              "#fdca26"
             ],
             [
              1,
              "#f0f921"
             ]
            ],
            "type": "histogram2dcontour"
           }
          ],
          "mesh3d": [
           {
            "colorbar": {
             "outlinewidth": 0,
             "ticks": ""
            },
            "type": "mesh3d"
           }
          ],
          "parcoords": [
           {
            "line": {
             "colorbar": {
              "outlinewidth": 0,
              "ticks": ""
             }
            },
            "type": "parcoords"
           }
          ],
          "pie": [
           {
            "automargin": true,
            "type": "pie"
           }
          ],
          "scatter": [
           {
            "fillpattern": {
             "fillmode": "overlay",
             "size": 10,
             "solidity": 0.2
            },
            "type": "scatter"
           }
          ],
          "scatter3d": [
           {
            "line": {
             "colorbar": {
              "outlinewidth": 0,
              "ticks": ""
             }
            },
            "marker": {
             "colorbar": {
              "outlinewidth": 0,
              "ticks": ""
             }
            },
            "type": "scatter3d"
           }
          ],
          "scattercarpet": [
           {
            "marker": {
             "colorbar": {
              "outlinewidth": 0,
              "ticks": ""
             }
            },
            "type": "scattercarpet"
           }
          ],
          "scattergeo": [
           {
            "marker": {
             "colorbar": {
              "outlinewidth": 0,
              "ticks": ""
             }
            },
            "type": "scattergeo"
           }
          ],
          "scattergl": [
           {
            "marker": {
             "colorbar": {
              "outlinewidth": 0,
              "ticks": ""
             }
            },
            "type": "scattergl"
           }
          ],
          "scattermap": [
           {
            "marker": {
             "colorbar": {
              "outlinewidth": 0,
              "ticks": ""
             }
            },
            "type": "scattermap"
           }
          ],
          "scattermapbox": [
           {
            "marker": {
             "colorbar": {
              "outlinewidth": 0,
              "ticks": ""
             }
            },
            "type": "scattermapbox"
           }
          ],
          "scatterpolar": [
           {
            "marker": {
             "colorbar": {
              "outlinewidth": 0,
              "ticks": ""
             }
            },
            "type": "scatterpolar"
           }
          ],
          "scatterpolargl": [
           {
            "marker": {
             "colorbar": {
              "outlinewidth": 0,
              "ticks": ""
             }
            },
            "type": "scatterpolargl"
           }
          ],
          "scatterternary": [
           {
            "marker": {
             "colorbar": {
              "outlinewidth": 0,
              "ticks": ""
             }
            },
            "type": "scatterternary"
           }
          ],
          "surface": [
           {
            "colorbar": {
             "outlinewidth": 0,
             "ticks": ""
            },
            "colorscale": [
             [
              0,
              "#0d0887"
             ],
             [
              0.1111111111111111,
              "#46039f"
             ],
             [
              0.2222222222222222,
              "#7201a8"
             ],
             [
              0.3333333333333333,
              "#9c179e"
             ],
             [
              0.4444444444444444,
              "#bd3786"
             ],
             [
              0.5555555555555556,
              "#d8576b"
             ],
             [
              0.6666666666666666,
              "#ed7953"
             ],
             [
              0.7777777777777778,
              "#fb9f3a"
             ],
             [
              0.8888888888888888,
              "#fdca26"
             ],
             [
              1,
              "#f0f921"
             ]
            ],
            "type": "surface"
           }
          ],
          "table": [
           {
            "cells": {
             "fill": {
              "color": "#EBF0F8"
             },
             "line": {
              "color": "white"
             }
            },
            "header": {
             "fill": {
              "color": "#C8D4E3"
             },
             "line": {
              "color": "white"
             }
            },
            "type": "table"
           }
          ]
         },
         "layout": {
          "annotationdefaults": {
           "arrowcolor": "#2a3f5f",
           "arrowhead": 0,
           "arrowwidth": 1
          },
          "autotypenumbers": "strict",
          "coloraxis": {
           "colorbar": {
            "outlinewidth": 0,
            "ticks": ""
           }
          },
          "colorscale": {
           "diverging": [
            [
             0,
             "#8e0152"
            ],
            [
             0.1,
             "#c51b7d"
            ],
            [
             0.2,
             "#de77ae"
            ],
            [
             0.3,
             "#f1b6da"
            ],
            [
             0.4,
             "#fde0ef"
            ],
            [
             0.5,
             "#f7f7f7"
            ],
            [
             0.6,
             "#e6f5d0"
            ],
            [
             0.7,
             "#b8e186"
            ],
            [
             0.8,
             "#7fbc41"
            ],
            [
             0.9,
             "#4d9221"
            ],
            [
             1,
             "#276419"
            ]
           ],
           "sequential": [
            [
             0,
             "#0d0887"
            ],
            [
             0.1111111111111111,
             "#46039f"
            ],
            [
             0.2222222222222222,
             "#7201a8"
            ],
            [
             0.3333333333333333,
             "#9c179e"
            ],
            [
             0.4444444444444444,
             "#bd3786"
            ],
            [
             0.5555555555555556,
             "#d8576b"
            ],
            [
             0.6666666666666666,
             "#ed7953"
            ],
            [
             0.7777777777777778,
             "#fb9f3a"
            ],
            [
             0.8888888888888888,
             "#fdca26"
            ],
            [
             1,
             "#f0f921"
            ]
           ],
           "sequentialminus": [
            [
             0,
             "#0d0887"
            ],
            [
             0.1111111111111111,
             "#46039f"
            ],
            [
             0.2222222222222222,
             "#7201a8"
            ],
            [
             0.3333333333333333,
             "#9c179e"
            ],
            [
             0.4444444444444444,
             "#bd3786"
            ],
            [
             0.5555555555555556,
             "#d8576b"
            ],
            [
             0.6666666666666666,
             "#ed7953"
            ],
            [
             0.7777777777777778,
             "#fb9f3a"
            ],
            [
             0.8888888888888888,
             "#fdca26"
            ],
            [
             1,
             "#f0f921"
            ]
           ]
          },
          "colorway": [
           "#636efa",
           "#EF553B",
           "#00cc96",
           "#ab63fa",
           "#FFA15A",
           "#19d3f3",
           "#FF6692",
           "#B6E880",
           "#FF97FF",
           "#FECB52"
          ],
          "font": {
           "color": "#2a3f5f"
          },
          "geo": {
           "bgcolor": "white",
           "lakecolor": "white",
           "landcolor": "#E5ECF6",
           "showlakes": true,
           "showland": true,
           "subunitcolor": "white"
          },
          "hoverlabel": {
           "align": "left"
          },
          "hovermode": "closest",
          "mapbox": {
           "style": "light"
          },
          "paper_bgcolor": "white",
          "plot_bgcolor": "#E5ECF6",
          "polar": {
           "angularaxis": {
            "gridcolor": "white",
            "linecolor": "white",
            "ticks": ""
           },
           "bgcolor": "#E5ECF6",
           "radialaxis": {
            "gridcolor": "white",
            "linecolor": "white",
            "ticks": ""
           }
          },
          "scene": {
           "xaxis": {
            "backgroundcolor": "#E5ECF6",
            "gridcolor": "white",
            "gridwidth": 2,
            "linecolor": "white",
            "showbackground": true,
            "ticks": "",
            "zerolinecolor": "white"
           },
           "yaxis": {
            "backgroundcolor": "#E5ECF6",
            "gridcolor": "white",
            "gridwidth": 2,
            "linecolor": "white",
            "showbackground": true,
            "ticks": "",
            "zerolinecolor": "white"
           },
           "zaxis": {
            "backgroundcolor": "#E5ECF6",
            "gridcolor": "white",
            "gridwidth": 2,
            "linecolor": "white",
            "showbackground": true,
            "ticks": "",
            "zerolinecolor": "white"
           }
          },
          "shapedefaults": {
           "line": {
            "color": "#2a3f5f"
           }
          },
          "ternary": {
           "aaxis": {
            "gridcolor": "white",
            "linecolor": "white",
            "ticks": ""
           },
           "baxis": {
            "gridcolor": "white",
            "linecolor": "white",
            "ticks": ""
           },
           "bgcolor": "#E5ECF6",
           "caxis": {
            "gridcolor": "white",
            "linecolor": "white",
            "ticks": ""
           }
          },
          "title": {
           "x": 0.05
          },
          "xaxis": {
           "automargin": true,
           "gridcolor": "white",
           "linecolor": "white",
           "ticks": "",
           "title": {
            "standoff": 15
           },
           "zerolinecolor": "white",
           "zerolinewidth": 2
          },
          "yaxis": {
           "automargin": true,
           "gridcolor": "white",
           "linecolor": "white",
           "ticks": "",
           "title": {
            "standoff": 15
           },
           "zerolinecolor": "white",
           "zerolinewidth": 2
          }
         }
        },
        "title": {
         "text": "Edad vs Valor de Mercado"
        },
        "xaxis": {
         "anchor": "y",
         "domain": [
          0,
          1
         ],
         "title": {
          "text": "age"
         }
        },
        "yaxis": {
         "anchor": "x",
         "domain": [
          0,
          1
         ],
         "title": {
          "text": "market_value"
         }
        }
       }
      }
     },
     "metadata": {},
     "output_type": "display_data"
    }
   ],
   "source": [
    "fig = px.scatter(player_data, x='age', y='market_value',\n",
    "                 hover_name='name', color='position',\n",
    "                 title='Edad vs Valor de Mercado')\n",
    "fig.show()"
   ]
  },
  {
   "cell_type": "code",
   "execution_count": null,
   "metadata": {},
   "outputs": [],
   "source": []
  }
 ],
 "metadata": {
  "kernelspec": {
   "display_name": "venv",
   "language": "python",
   "name": "venv"
  },
  "language_info": {
   "codemirror_mode": {
    "name": "ipython",
    "version": 3
   },
   "file_extension": ".py",
   "mimetype": "text/x-python",
   "name": "python",
   "nbconvert_exporter": "python",
   "pygments_lexer": "ipython3",
   "version": "3.12.0"
  }
 },
 "nbformat": 4,
 "nbformat_minor": 2
}
